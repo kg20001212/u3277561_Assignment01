{
 "cells": [
  {
   "cell_type": "code",
   "execution_count": 7,
   "id": "882dfe4b-9836-4ba2-b215-b3cdfec330ed",
   "metadata": {},
   "outputs": [
    {
     "name": "stdout",
     "output_type": "stream",
     "text": [
      "Wrote: C:\\Users\\kezan\\Downloads\\AAAAAAAAA datascience\\u3277561_Assignment01\\data\\processed\\features.csv Shape: (10499, 19)\n",
      "New columns added: ['cuisine_count', 'cost_bin']\n"
     ]
    }
   ],
   "source": [
    "import re, pandas as pd\n",
    "from pathlib import Path\n",
    "\n",
    "try:\n",
    "    ROOT = Path(__file__).resolve().parents[1]\n",
    "except NameError:\n",
    "    ROOT = Path.cwd()\n",
    "    if ROOT.name == \"src\":\n",
    "        ROOT = ROOT.parent\n",
    "\n",
    "INP = ROOT / \"data\" / \"processed\" / \"clean.csv\"\n",
    "OUT = ROOT / \"data\" / \"processed\" / \"features.csv\"\n",
    "\n",
    "df = pd.read_csv(INP)\n",
    "\n",
    "c_col = next((c for c in [\"cuisine\",\"cuisines\",\"Cuisines\"] if c in df.columns), None)\n",
    "if c_col:\n",
    "    def count_cuisines(s):\n",
    "        if pd.isna(s): return 0\n",
    "        return len([x for x in re.split(r\"[,/|;]\", str(s)) if x.strip()])\n",
    "    df[\"cuisine_count\"] = df[c_col].apply(count_cuisines).astype(int)\n",
    "\n",
    "if \"cost\" in df.columns:\n",
    "    try:\n",
    "        df[\"cost_bin\"] = pd.qcut(df[\"cost\"], q=3, labels=[\"Low\",\"Medium\",\"High\"])\n",
    "    except Exception:\n",
    "        pass\n",
    "\n",
    "if \"name\" in df.columns:\n",
    "    counts = df[\"name\"].value_counts()\n",
    "    df[\"is_chain\"] = df[\"name\"].map(lambda x: 1 if counts.get(x, 0) > 1 else 0)\n",
    "\n",
    "df.to_csv(OUT, index=False)\n",
    "print(\"Wrote:\", OUT, \"Shape:\", df.shape)\n",
    "print(\"New columns added:\", [c for c in [\"cuisine_count\",\"cost_bin\",\"is_chain\"] if c in df.columns])\n"
   ]
  },
  {
   "cell_type": "code",
   "execution_count": null,
   "id": "e54c8b3e-571e-49b9-b6ae-a2ede8b8cf61",
   "metadata": {},
   "outputs": [],
   "source": []
  }
 ],
 "metadata": {
  "kernelspec": {
   "display_name": "Python 3 (ipykernel)",
   "language": "python",
   "name": "python3"
  },
  "language_info": {
   "codemirror_mode": {
    "name": "ipython",
    "version": 3
   },
   "file_extension": ".py",
   "mimetype": "text/x-python",
   "name": "python",
   "nbconvert_exporter": "python",
   "pygments_lexer": "ipython3",
   "version": "3.12.4"
  }
 },
 "nbformat": 4,
 "nbformat_minor": 5
}
