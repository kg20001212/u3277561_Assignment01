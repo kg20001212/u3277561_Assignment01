{
 "cells": [
  {
   "cell_type": "code",
   "execution_count": 21,
   "id": "355f41bd-d474-478d-8f78-d583effd331d",
   "metadata": {},
   "outputs": [
    {
     "name": "stdout",
     "output_type": "stream",
     "text": [
      "Dropped 1 rows during cleaning\n",
      "Wrote: C:\\Users\\kezan\\Downloads\\AAAAAAAAA datascience\\u3277561_Assignment01\\data\\processed\\clean.csv Shape: (10499, 17)\n"
     ]
    }
   ],
   "source": [
    "import pandas as pd\n",
    "from pathlib import Path\n",
    "\n",
    "# Resolve project root (always one level up from src/)\n",
    "try:\n",
    "    ROOT = Path(__file__).resolve().parents[1]\n",
    "except NameError:\n",
    "    ROOT = Path.cwd()\n",
    "    if ROOT.name == \"src\":\n",
    "        ROOT = ROOT.parent\n",
    "\n",
    "RAW = ROOT / \"data\" / \"raw\" / \"zomato_df_final_data.csv\"\n",
    "OUT_DIR = ROOT / \"data\" / \"processed\"\n",
    "OUT_DIR.mkdir(parents=True, exist_ok=True)\n",
    "\n",
    "df = pd.read_csv(RAW)\n",
    "\n",
    "# Strip column names\n",
    "df.columns = [c.strip() for c in df.columns]\n",
    "\n",
    "# Drop empty + duplicate rows\n",
    "before = df.shape[0]\n",
    "df = df.dropna(how=\"all\").drop_duplicates()\n",
    "after = df.shape[0]\n",
    "print(f\"Dropped {before - after} rows during cleaning\")\n",
    "\n",
    "# Save\n",
    "clean_path = OUT_DIR / \"clean.csv\"\n",
    "df.to_csv(clean_path, index=False)\n",
    "print(\"Wrote:\", clean_path, \"Shape:\", df.shape)\n"
   ]
  },
  {
   "cell_type": "code",
   "execution_count": null,
   "id": "dd4e52c3-5d2e-44a0-8bcb-f30fc7986216",
   "metadata": {},
   "outputs": [],
   "source": []
  }
 ],
 "metadata": {
  "kernelspec": {
   "display_name": "Python 3 (ipykernel)",
   "language": "python",
   "name": "python3"
  },
  "language_info": {
   "codemirror_mode": {
    "name": "ipython",
    "version": 3
   },
   "file_extension": ".py",
   "mimetype": "text/x-python",
   "name": "python",
   "nbconvert_exporter": "python",
   "pygments_lexer": "ipython3",
   "version": "3.12.4"
  }
 },
 "nbformat": 4,
 "nbformat_minor": 5
}
